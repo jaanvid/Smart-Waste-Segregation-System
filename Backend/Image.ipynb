{
  "nbformat": 4,
  "nbformat_minor": 0,
  "metadata": {
    "colab": {
      "provenance": [],
      "collapsed_sections": [
        "jyAbpe5bgUgq"
      ],
      "gpuType": "T4"
    },
    "kernelspec": {
      "name": "python3",
      "display_name": "Python 3"
    },
    "language_info": {
      "name": "python"
    },
    "accelerator": "GPU"
  },
  "cells": [
    {
      "cell_type": "markdown",
      "source": [
        "####video"
      ],
      "metadata": {
        "id": "wx0YRoR6K67V"
      }
    },
    {
      "cell_type": "code",
      "source": [
        "import os\n",
        "import cv2\n",
        "from PIL import Image\n",
        "from tqdm import tqdm"
      ],
      "metadata": {
        "id": "zhtMlPS_K67V"
      },
      "execution_count": null,
      "outputs": []
    },
    {
      "cell_type": "code",
      "source": [
        "# Define directory paths\n",
        "video_dir = '/content/drive/MyDrive/sml data /New Videos Trimmed/container'  # Path to the folder containing videos\n",
        "output_dir_base = '/content/drive/MyDrive/sml data /Extracted Frames/Non-Recyclable/container'  # Base path for extracted frames\n",
        "\n",
        "# Create the output directory (if it doesn't exist)\n",
        "os.makedirs(output_dir_base, exist_ok=True)\n",
        "\n",
        "# Get all video filenames in the directory\n",
        "video_filenames = [f for f in os.listdir(video_dir) if f.endswith(\".mp4\") or f.endswith(\".mov\") or f.endswith(\".MOV\")]\n",
        "\n",
        "# Function to extract frames\n",
        "def extract_frames(video_path, output_dir, resize=(128, 128)):\n",
        "  \"\"\"\n",
        "  Extracts frames from a video using OpenCV, resizes them (optional), and saves them as RGB images using PIL with a progress bar.\n",
        "\n",
        "  Args:\n",
        "      video_path (str): Path to the video file\n",
        "      output_dir (str): Path to the output directory for frames\n",
        "      resize (tuple, optional): Size to resize the frames. Defaults to (128, 128).\n",
        "  \"\"\"\n",
        "  cap = cv2.VideoCapture(video_path)\n",
        "\n",
        "  # Check if video opened successfully\n",
        "  if not cap.isOpened():\n",
        "    print(f\"Error opening video: {video_path}\")\n",
        "    return\n",
        "\n",
        "  # Get the total number of frames (optional)\n",
        "  total_frames = int(cap.get(cv2.CAP_PROP_FRAME_COUNT))\n",
        "\n",
        "  # Create a progress bar\n",
        "  with tqdm(total=total_frames if total_frames > 0 else None, desc=f\"Processing {video_path}\") as pbar:\n",
        "    frame_count = 0\n",
        "    while True:\n",
        "      # Capture frame-by-frame\n",
        "      ret, frame = cap.read()\n",
        "\n",
        "      # Check if frame is read correctly or end of video reached\n",
        "      if not ret:\n",
        "        print(f\"Finished processing {video_path}\")\n",
        "        break\n",
        "\n",
        "      # Convert frame to RGB format\n",
        "      frame_rgb = cv2.cvtColor(frame, cv2.COLOR_BGR2RGB)\n",
        "\n",
        "      # Resize the frame (optional)\n",
        "      if resize:\n",
        "        frame_rgb = cv2.resize(frame_rgb, resize)\n",
        "\n",
        "      # Convert frame to PIL image\n",
        "      pil_image = Image.fromarray(frame_rgb)\n",
        "\n",
        "      # Save the frame as an image\n",
        "      frame_filename = os.path.join(output_dir, f\"{os.path.splitext(os.path.basename(video_path))[0]}_{frame_count}.jpg\")\n",
        "      pil_image.save(frame_filename)\n",
        "\n",
        "      frame_count += 1\n",
        "      pbar.update(1)  # Update progress bar\n",
        "\n",
        "  # Release the video capture object\n",
        "  cap.release()\n",
        "\n",
        "# Process each video\n",
        "for filename in video_filenames:\n",
        "  # Get the video file path\n",
        "  video_file_path = os.path.join(video_dir, filename)\n",
        "\n",
        "  # Extract the video filename without extension\n",
        "  video_name = os.path.splitext(filename)[0]\n",
        "\n",
        "  # Create a separate folder for the current video's frames\n",
        "  output_dir = os.path.join(output_dir_base, video_name)\n",
        "  os.makedirs(output_dir, exist_ok=True)  # Create directory if it doesn't exist\n",
        "\n",
        "  # Extract frames from the video with resizing and progress bar\n",
        "  extract_frames(video_file_path, output_dir, resize=(128, 128))\n",
        "\n",
        "print(\"Frame extraction completed!\")"
      ],
      "metadata": {
        "id": "1zQEWS-FK67V",
        "colab": {
          "base_uri": "https://localhost:8080/"
        },
        "outputId": "8b70bf7e-d809-4d14-a4b5-60a62394bb98"
      },
      "execution_count": null,
      "outputs": [
        {
          "output_type": "stream",
          "name": "stderr",
          "text": [
            "Processing /content/drive/MyDrive/sml data /New Videos Trimmed/container/container3.mp4: 100%|██████████| 21/21 [00:00<00:00, 72.42it/s]\n"
          ]
        },
        {
          "output_type": "stream",
          "name": "stdout",
          "text": [
            "Finished processing /content/drive/MyDrive/sml data /New Videos Trimmed/container/container3.mp4\n"
          ]
        },
        {
          "output_type": "stream",
          "name": "stderr",
          "text": [
            "Processing /content/drive/MyDrive/sml data /New Videos Trimmed/container/container4.mp4: 100%|██████████| 18/18 [00:00<00:00, 81.85it/s]\n"
          ]
        },
        {
          "output_type": "stream",
          "name": "stdout",
          "text": [
            "Finished processing /content/drive/MyDrive/sml data /New Videos Trimmed/container/container4.mp4\n"
          ]
        },
        {
          "output_type": "stream",
          "name": "stderr",
          "text": [
            "Processing /content/drive/MyDrive/sml data /New Videos Trimmed/container/container5.mp4: 100%|██████████| 24/24 [00:00<00:00, 70.06it/s]\n"
          ]
        },
        {
          "output_type": "stream",
          "name": "stdout",
          "text": [
            "Finished processing /content/drive/MyDrive/sml data /New Videos Trimmed/container/container5.mp4\n"
          ]
        },
        {
          "output_type": "stream",
          "name": "stderr",
          "text": [
            "Processing /content/drive/MyDrive/sml data /New Videos Trimmed/container/container6.mp4: 100%|██████████| 41/41 [00:00<00:00, 82.13it/s]\n"
          ]
        },
        {
          "output_type": "stream",
          "name": "stdout",
          "text": [
            "Finished processing /content/drive/MyDrive/sml data /New Videos Trimmed/container/container6.mp4\n"
          ]
        },
        {
          "output_type": "stream",
          "name": "stderr",
          "text": [
            "Processing /content/drive/MyDrive/sml data /New Videos Trimmed/container/container7.mp4: 100%|██████████| 54/54 [00:00<00:00, 87.50it/s]\n"
          ]
        },
        {
          "output_type": "stream",
          "name": "stdout",
          "text": [
            "Finished processing /content/drive/MyDrive/sml data /New Videos Trimmed/container/container7.mp4\n"
          ]
        },
        {
          "output_type": "stream",
          "name": "stderr",
          "text": [
            "Processing /content/drive/MyDrive/sml data /New Videos Trimmed/container/container8.mp4: 100%|██████████| 17/17 [00:00<00:00, 89.68it/s]\n"
          ]
        },
        {
          "output_type": "stream",
          "name": "stdout",
          "text": [
            "Finished processing /content/drive/MyDrive/sml data /New Videos Trimmed/container/container8.mp4\n"
          ]
        },
        {
          "output_type": "stream",
          "name": "stderr",
          "text": [
            "Processing /content/drive/MyDrive/sml data /New Videos Trimmed/container/container9.mp4: 100%|██████████| 18/18 [00:00<00:00, 94.65it/s]\n"
          ]
        },
        {
          "output_type": "stream",
          "name": "stdout",
          "text": [
            "Finished processing /content/drive/MyDrive/sml data /New Videos Trimmed/container/container9.mp4\n"
          ]
        },
        {
          "output_type": "stream",
          "name": "stderr",
          "text": [
            "Processing /content/drive/MyDrive/sml data /New Videos Trimmed/container/container10.mp4: 100%|██████████| 15/15 [00:00<00:00, 90.78it/s]\n"
          ]
        },
        {
          "output_type": "stream",
          "name": "stdout",
          "text": [
            "Finished processing /content/drive/MyDrive/sml data /New Videos Trimmed/container/container10.mp4\n"
          ]
        },
        {
          "output_type": "stream",
          "name": "stderr",
          "text": [
            "Processing /content/drive/MyDrive/sml data /New Videos Trimmed/container/container16.mp4: 100%|██████████| 7/7 [00:00<00:00, 64.68it/s]\n"
          ]
        },
        {
          "output_type": "stream",
          "name": "stdout",
          "text": [
            "Finished processing /content/drive/MyDrive/sml data /New Videos Trimmed/container/container16.mp4\n"
          ]
        },
        {
          "output_type": "stream",
          "name": "stderr",
          "text": [
            "Processing /content/drive/MyDrive/sml data /New Videos Trimmed/container/container20.mp4: 100%|██████████| 13/13 [00:00<00:00, 86.51it/s]\n"
          ]
        },
        {
          "output_type": "stream",
          "name": "stdout",
          "text": [
            "Finished processing /content/drive/MyDrive/sml data /New Videos Trimmed/container/container20.mp4\n"
          ]
        },
        {
          "output_type": "stream",
          "name": "stderr",
          "text": [
            "Processing /content/drive/MyDrive/sml data /New Videos Trimmed/container/container28.mp4: 100%|██████████| 9/9 [00:00<00:00, 84.74it/s]\n"
          ]
        },
        {
          "output_type": "stream",
          "name": "stdout",
          "text": [
            "Finished processing /content/drive/MyDrive/sml data /New Videos Trimmed/container/container28.mp4\n"
          ]
        },
        {
          "output_type": "stream",
          "name": "stderr",
          "text": [
            "Processing /content/drive/MyDrive/sml data /New Videos Trimmed/container/container1.mp4: 100%|██████████| 14/14 [00:00<00:00, 87.71it/s]\n"
          ]
        },
        {
          "output_type": "stream",
          "name": "stdout",
          "text": [
            "Finished processing /content/drive/MyDrive/sml data /New Videos Trimmed/container/container1.mp4\n"
          ]
        },
        {
          "output_type": "stream",
          "name": "stderr",
          "text": [
            "Processing /content/drive/MyDrive/sml data /New Videos Trimmed/container/container2.mp4: 100%|██████████| 11/11 [00:00<00:00, 86.42it/s]\n"
          ]
        },
        {
          "output_type": "stream",
          "name": "stdout",
          "text": [
            "Finished processing /content/drive/MyDrive/sml data /New Videos Trimmed/container/container2.mp4\n"
          ]
        },
        {
          "output_type": "stream",
          "name": "stderr",
          "text": [
            "Processing /content/drive/MyDrive/sml data /New Videos Trimmed/container/container11.mp4: 100%|██████████| 16/16 [00:00<00:00, 92.40it/s]\n"
          ]
        },
        {
          "output_type": "stream",
          "name": "stdout",
          "text": [
            "Finished processing /content/drive/MyDrive/sml data /New Videos Trimmed/container/container11.mp4\n"
          ]
        },
        {
          "output_type": "stream",
          "name": "stderr",
          "text": [
            "Processing /content/drive/MyDrive/sml data /New Videos Trimmed/container/container12.mp4: 100%|██████████| 16/16 [00:00<00:00, 82.78it/s]\n"
          ]
        },
        {
          "output_type": "stream",
          "name": "stdout",
          "text": [
            "Finished processing /content/drive/MyDrive/sml data /New Videos Trimmed/container/container12.mp4\n"
          ]
        },
        {
          "output_type": "stream",
          "name": "stderr",
          "text": [
            "Processing /content/drive/MyDrive/sml data /New Videos Trimmed/container/container14.mp4: 100%|██████████| 8/8 [00:00<00:00, 76.71it/s]\n"
          ]
        },
        {
          "output_type": "stream",
          "name": "stdout",
          "text": [
            "Finished processing /content/drive/MyDrive/sml data /New Videos Trimmed/container/container14.mp4\n"
          ]
        },
        {
          "output_type": "stream",
          "name": "stderr",
          "text": [
            "Processing /content/drive/MyDrive/sml data /New Videos Trimmed/container/container15.mp4: 100%|██████████| 19/19 [00:00<00:00, 62.64it/s]\n"
          ]
        },
        {
          "output_type": "stream",
          "name": "stdout",
          "text": [
            "Finished processing /content/drive/MyDrive/sml data /New Videos Trimmed/container/container15.mp4\n"
          ]
        },
        {
          "output_type": "stream",
          "name": "stderr",
          "text": [
            "Processing /content/drive/MyDrive/sml data /New Videos Trimmed/container/container17.mp4: 100%|██████████| 7/7 [00:00<00:00, 82.86it/s]\n"
          ]
        },
        {
          "output_type": "stream",
          "name": "stdout",
          "text": [
            "Finished processing /content/drive/MyDrive/sml data /New Videos Trimmed/container/container17.mp4\n"
          ]
        },
        {
          "output_type": "stream",
          "name": "stderr",
          "text": [
            "Processing /content/drive/MyDrive/sml data /New Videos Trimmed/container/container19.mp4: 100%|██████████| 11/11 [00:00<00:00, 79.99it/s]\n"
          ]
        },
        {
          "output_type": "stream",
          "name": "stdout",
          "text": [
            "Finished processing /content/drive/MyDrive/sml data /New Videos Trimmed/container/container19.mp4\n"
          ]
        },
        {
          "output_type": "stream",
          "name": "stderr",
          "text": [
            "Processing /content/drive/MyDrive/sml data /New Videos Trimmed/container/container21.mp4: 100%|██████████| 12/12 [00:00<00:00, 99.40it/s] \n"
          ]
        },
        {
          "output_type": "stream",
          "name": "stdout",
          "text": [
            "Finished processing /content/drive/MyDrive/sml data /New Videos Trimmed/container/container21.mp4\n"
          ]
        },
        {
          "output_type": "stream",
          "name": "stderr",
          "text": [
            "Processing /content/drive/MyDrive/sml data /New Videos Trimmed/container/container23.mp4: 100%|██████████| 22/22 [00:00<00:00, 96.98it/s]\n"
          ]
        },
        {
          "output_type": "stream",
          "name": "stdout",
          "text": [
            "Finished processing /content/drive/MyDrive/sml data /New Videos Trimmed/container/container23.mp4\n"
          ]
        },
        {
          "output_type": "stream",
          "name": "stderr",
          "text": [
            "Processing /content/drive/MyDrive/sml data /New Videos Trimmed/container/container24.mp4: 100%|██████████| 9/9 [00:00<00:00, 80.59it/s]\n"
          ]
        },
        {
          "output_type": "stream",
          "name": "stdout",
          "text": [
            "Finished processing /content/drive/MyDrive/sml data /New Videos Trimmed/container/container24.mp4\n"
          ]
        },
        {
          "output_type": "stream",
          "name": "stderr",
          "text": [
            "Processing /content/drive/MyDrive/sml data /New Videos Trimmed/container/container25.mp4: 100%|██████████| 9/9 [00:00<00:00, 81.41it/s]\n"
          ]
        },
        {
          "output_type": "stream",
          "name": "stdout",
          "text": [
            "Finished processing /content/drive/MyDrive/sml data /New Videos Trimmed/container/container25.mp4\n"
          ]
        },
        {
          "output_type": "stream",
          "name": "stderr",
          "text": [
            "Processing /content/drive/MyDrive/sml data /New Videos Trimmed/container/container27.mp4: 100%|██████████| 19/19 [00:00<00:00, 92.95it/s] \n"
          ]
        },
        {
          "output_type": "stream",
          "name": "stdout",
          "text": [
            "Finished processing /content/drive/MyDrive/sml data /New Videos Trimmed/container/container27.mp4\n"
          ]
        },
        {
          "output_type": "stream",
          "name": "stderr",
          "text": [
            "Processing /content/drive/MyDrive/sml data /New Videos Trimmed/container/container29.mp4: 100%|██████████| 21/21 [00:00<00:00, 82.56it/s]\n"
          ]
        },
        {
          "output_type": "stream",
          "name": "stdout",
          "text": [
            "Finished processing /content/drive/MyDrive/sml data /New Videos Trimmed/container/container29.mp4\n"
          ]
        },
        {
          "output_type": "stream",
          "name": "stderr",
          "text": [
            "Processing /content/drive/MyDrive/sml data /New Videos Trimmed/container/container30.mp4: 100%|██████████| 23/23 [00:00<00:00, 91.25it/s]\n"
          ]
        },
        {
          "output_type": "stream",
          "name": "stdout",
          "text": [
            "Finished processing /content/drive/MyDrive/sml data /New Videos Trimmed/container/container30.mp4\n"
          ]
        },
        {
          "output_type": "stream",
          "name": "stderr",
          "text": [
            "Processing /content/drive/MyDrive/sml data /New Videos Trimmed/container/container32.mp4: 100%|██████████| 18/18 [00:00<00:00, 91.47it/s]\n"
          ]
        },
        {
          "output_type": "stream",
          "name": "stdout",
          "text": [
            "Finished processing /content/drive/MyDrive/sml data /New Videos Trimmed/container/container32.mp4\n"
          ]
        },
        {
          "output_type": "stream",
          "name": "stderr",
          "text": [
            "Processing /content/drive/MyDrive/sml data /New Videos Trimmed/container/container33.mp4: 100%|██████████| 7/7 [00:00<00:00, 70.31it/s]\n"
          ]
        },
        {
          "output_type": "stream",
          "name": "stdout",
          "text": [
            "Finished processing /content/drive/MyDrive/sml data /New Videos Trimmed/container/container33.mp4\n"
          ]
        },
        {
          "output_type": "stream",
          "name": "stderr",
          "text": [
            "Processing /content/drive/MyDrive/sml data /New Videos Trimmed/container/container34.mp4: 100%|██████████| 27/27 [00:00<00:00, 70.70it/s]\n"
          ]
        },
        {
          "output_type": "stream",
          "name": "stdout",
          "text": [
            "Finished processing /content/drive/MyDrive/sml data /New Videos Trimmed/container/container34.mp4\n"
          ]
        },
        {
          "output_type": "stream",
          "name": "stderr",
          "text": [
            "Processing /content/drive/MyDrive/sml data /New Videos Trimmed/container/container37.mp4: 100%|██████████| 34/34 [00:00<00:00, 72.17it/s]\n"
          ]
        },
        {
          "output_type": "stream",
          "name": "stdout",
          "text": [
            "Finished processing /content/drive/MyDrive/sml data /New Videos Trimmed/container/container37.mp4\n"
          ]
        },
        {
          "output_type": "stream",
          "name": "stderr",
          "text": [
            "Processing /content/drive/MyDrive/sml data /New Videos Trimmed/container/container38.mp4: 100%|██████████| 26/26 [00:00<00:00, 91.27it/s]\n"
          ]
        },
        {
          "output_type": "stream",
          "name": "stdout",
          "text": [
            "Finished processing /content/drive/MyDrive/sml data /New Videos Trimmed/container/container38.mp4\n"
          ]
        },
        {
          "output_type": "stream",
          "name": "stderr",
          "text": [
            "Processing /content/drive/MyDrive/sml data /New Videos Trimmed/container/container39.mp4: 100%|██████████| 24/24 [00:00<00:00, 89.92it/s]\n"
          ]
        },
        {
          "output_type": "stream",
          "name": "stdout",
          "text": [
            "Finished processing /content/drive/MyDrive/sml data /New Videos Trimmed/container/container39.mp4\n"
          ]
        },
        {
          "output_type": "stream",
          "name": "stderr",
          "text": [
            "Processing /content/drive/MyDrive/sml data /New Videos Trimmed/container/container40.mp4: 100%|██████████| 35/35 [00:00<00:00, 91.73it/s]\n"
          ]
        },
        {
          "output_type": "stream",
          "name": "stdout",
          "text": [
            "Finished processing /content/drive/MyDrive/sml data /New Videos Trimmed/container/container40.mp4\n"
          ]
        },
        {
          "output_type": "stream",
          "name": "stderr",
          "text": [
            "Processing /content/drive/MyDrive/sml data /New Videos Trimmed/container/container41.mp4: 100%|██████████| 18/18 [00:00<00:00, 89.78it/s]\n"
          ]
        },
        {
          "output_type": "stream",
          "name": "stdout",
          "text": [
            "Finished processing /content/drive/MyDrive/sml data /New Videos Trimmed/container/container41.mp4\n"
          ]
        },
        {
          "output_type": "stream",
          "name": "stderr",
          "text": [
            "Processing /content/drive/MyDrive/sml data /New Videos Trimmed/container/container44.mp4: 100%|██████████| 30/30 [00:00<00:00, 83.73it/s]\n"
          ]
        },
        {
          "output_type": "stream",
          "name": "stdout",
          "text": [
            "Finished processing /content/drive/MyDrive/sml data /New Videos Trimmed/container/container44.mp4\n"
          ]
        },
        {
          "output_type": "stream",
          "name": "stderr",
          "text": [
            "Processing /content/drive/MyDrive/sml data /New Videos Trimmed/container/container45.mp4: 100%|██████████| 15/15 [00:00<00:00, 90.64it/s] \n"
          ]
        },
        {
          "output_type": "stream",
          "name": "stdout",
          "text": [
            "Finished processing /content/drive/MyDrive/sml data /New Videos Trimmed/container/container45.mp4\n"
          ]
        },
        {
          "output_type": "stream",
          "name": "stderr",
          "text": [
            "Processing /content/drive/MyDrive/sml data /New Videos Trimmed/container/container49.mp4: 100%|██████████| 14/14 [00:00<00:00, 88.40it/s]\n"
          ]
        },
        {
          "output_type": "stream",
          "name": "stdout",
          "text": [
            "Finished processing /content/drive/MyDrive/sml data /New Videos Trimmed/container/container49.mp4\n"
          ]
        },
        {
          "output_type": "stream",
          "name": "stderr",
          "text": [
            "Processing /content/drive/MyDrive/sml data /New Videos Trimmed/container/container50.mp4: 100%|██████████| 47/47 [00:00<00:00, 94.88it/s]\n"
          ]
        },
        {
          "output_type": "stream",
          "name": "stdout",
          "text": [
            "Finished processing /content/drive/MyDrive/sml data /New Videos Trimmed/container/container50.mp4\n"
          ]
        },
        {
          "output_type": "stream",
          "name": "stderr",
          "text": [
            "Processing /content/drive/MyDrive/sml data /New Videos Trimmed/container/container51.mp4: 100%|██████████| 33/33 [00:00<00:00, 65.02it/s]\n"
          ]
        },
        {
          "output_type": "stream",
          "name": "stdout",
          "text": [
            "Finished processing /content/drive/MyDrive/sml data /New Videos Trimmed/container/container51.mp4\n"
          ]
        },
        {
          "output_type": "stream",
          "name": "stderr",
          "text": [
            "Processing /content/drive/MyDrive/sml data /New Videos Trimmed/container/container54.mp4: 100%|██████████| 31/31 [00:00<00:00, 48.13it/s]\n"
          ]
        },
        {
          "output_type": "stream",
          "name": "stdout",
          "text": [
            "Finished processing /content/drive/MyDrive/sml data /New Videos Trimmed/container/container54.mp4\n"
          ]
        },
        {
          "output_type": "stream",
          "name": "stderr",
          "text": [
            "Processing /content/drive/MyDrive/sml data /New Videos Trimmed/container/container55.mp4: 100%|██████████| 20/20 [00:00<00:00, 40.31it/s]\n"
          ]
        },
        {
          "output_type": "stream",
          "name": "stdout",
          "text": [
            "Finished processing /content/drive/MyDrive/sml data /New Videos Trimmed/container/container55.mp4\n"
          ]
        },
        {
          "output_type": "stream",
          "name": "stderr",
          "text": [
            "Processing /content/drive/MyDrive/sml data /New Videos Trimmed/container/container59.mp4: 100%|██████████| 13/13 [00:00<00:00, 87.33it/s]\n"
          ]
        },
        {
          "output_type": "stream",
          "name": "stdout",
          "text": [
            "Finished processing /content/drive/MyDrive/sml data /New Videos Trimmed/container/container59.mp4\n"
          ]
        },
        {
          "output_type": "stream",
          "name": "stderr",
          "text": [
            "Processing /content/drive/MyDrive/sml data /New Videos Trimmed/container/container60.mp4: 100%|██████████| 18/18 [00:00<00:00, 94.23it/s]\n"
          ]
        },
        {
          "output_type": "stream",
          "name": "stdout",
          "text": [
            "Finished processing /content/drive/MyDrive/sml data /New Videos Trimmed/container/container60.mp4\n"
          ]
        },
        {
          "output_type": "stream",
          "name": "stderr",
          "text": [
            "Processing /content/drive/MyDrive/sml data /New Videos Trimmed/container/container61.mov: 100%|██████████| 20/20 [00:00<00:00, 62.57it/s]\n"
          ]
        },
        {
          "output_type": "stream",
          "name": "stdout",
          "text": [
            "Finished processing /content/drive/MyDrive/sml data /New Videos Trimmed/container/container61.mov\n"
          ]
        },
        {
          "output_type": "stream",
          "name": "stderr",
          "text": [
            "Processing /content/drive/MyDrive/sml data /New Videos Trimmed/container/container62.mov: 100%|██████████| 23/23 [00:00<00:00, 66.54it/s]\n"
          ]
        },
        {
          "output_type": "stream",
          "name": "stdout",
          "text": [
            "Finished processing /content/drive/MyDrive/sml data /New Videos Trimmed/container/container62.mov\n"
          ]
        },
        {
          "output_type": "stream",
          "name": "stderr",
          "text": [
            "Processing /content/drive/MyDrive/sml data /New Videos Trimmed/container/container63.mov: 100%|██████████| 37/37 [00:00<00:00, 66.04it/s]\n"
          ]
        },
        {
          "output_type": "stream",
          "name": "stdout",
          "text": [
            "Finished processing /content/drive/MyDrive/sml data /New Videos Trimmed/container/container63.mov\n"
          ]
        },
        {
          "output_type": "stream",
          "name": "stderr",
          "text": [
            "Processing /content/drive/MyDrive/sml data /New Videos Trimmed/container/container64.mov: 100%|██████████| 10/10 [00:00<00:00, 59.95it/s]\n"
          ]
        },
        {
          "output_type": "stream",
          "name": "stdout",
          "text": [
            "Finished processing /content/drive/MyDrive/sml data /New Videos Trimmed/container/container64.mov\n"
          ]
        },
        {
          "output_type": "stream",
          "name": "stderr",
          "text": [
            "Processing /content/drive/MyDrive/sml data /New Videos Trimmed/container/container65.mov: 100%|██████████| 18/18 [00:00<00:00, 64.00it/s]\n"
          ]
        },
        {
          "output_type": "stream",
          "name": "stdout",
          "text": [
            "Finished processing /content/drive/MyDrive/sml data /New Videos Trimmed/container/container65.mov\n"
          ]
        },
        {
          "output_type": "stream",
          "name": "stderr",
          "text": [
            "Processing /content/drive/MyDrive/sml data /New Videos Trimmed/container/container66.mov: 100%|██████████| 18/18 [00:00<00:00, 65.83it/s]\n"
          ]
        },
        {
          "output_type": "stream",
          "name": "stdout",
          "text": [
            "Finished processing /content/drive/MyDrive/sml data /New Videos Trimmed/container/container66.mov\n"
          ]
        },
        {
          "output_type": "stream",
          "name": "stderr",
          "text": [
            "Processing /content/drive/MyDrive/sml data /New Videos Trimmed/container/container67.mov: 100%|██████████| 22/22 [00:00<00:00, 58.57it/s]\n"
          ]
        },
        {
          "output_type": "stream",
          "name": "stdout",
          "text": [
            "Finished processing /content/drive/MyDrive/sml data /New Videos Trimmed/container/container67.mov\n"
          ]
        },
        {
          "output_type": "stream",
          "name": "stderr",
          "text": [
            "Processing /content/drive/MyDrive/sml data /New Videos Trimmed/container/container68.mov: 100%|██████████| 22/22 [00:00<00:00, 63.17it/s]\n"
          ]
        },
        {
          "output_type": "stream",
          "name": "stdout",
          "text": [
            "Finished processing /content/drive/MyDrive/sml data /New Videos Trimmed/container/container68.mov\n"
          ]
        },
        {
          "output_type": "stream",
          "name": "stderr",
          "text": [
            "Processing /content/drive/MyDrive/sml data /New Videos Trimmed/container/container69.mov: 100%|██████████| 22/22 [00:00<00:00, 62.80it/s]\n"
          ]
        },
        {
          "output_type": "stream",
          "name": "stdout",
          "text": [
            "Finished processing /content/drive/MyDrive/sml data /New Videos Trimmed/container/container69.mov\n"
          ]
        },
        {
          "output_type": "stream",
          "name": "stderr",
          "text": [
            "Processing /content/drive/MyDrive/sml data /New Videos Trimmed/container/container70.mov: 100%|██████████| 14/14 [00:00<00:00, 47.73it/s]"
          ]
        },
        {
          "output_type": "stream",
          "name": "stdout",
          "text": [
            "Finished processing /content/drive/MyDrive/sml data /New Videos Trimmed/container/container70.mov\n",
            "Frame extraction completed!\n"
          ]
        },
        {
          "output_type": "stream",
          "name": "stderr",
          "text": [
            "\n"
          ]
        }
      ]
    },
    {
      "cell_type": "markdown",
      "source": [
        "####audio"
      ],
      "metadata": {
        "id": "jyAbpe5bgUgq"
      }
    },
    {
      "cell_type": "code",
      "source": [
        "from moviepy.editor import VideoFileClip\n",
        "from tqdm import tqdm\n",
        "import os"
      ],
      "metadata": {
        "id": "aUxYWNyvj1k0"
      },
      "execution_count": null,
      "outputs": []
    },
    {
      "cell_type": "code",
      "source": [
        "# Function to extract audio from video\n",
        "def extract_audio(video_file, audio_file):\n",
        "  try:\n",
        "    # Load the video clip\n",
        "    video_clip = VideoFileClip(video_file)\n",
        "\n",
        "    # Extract audio from the video clip\n",
        "    audio_clip = video_clip.audio\n",
        "\n",
        "    # Write the audio to a file with default codec (usually PCM)\n",
        "    audio_clip.write_audiofile(audio_file)\n",
        "\n",
        "    # Close the video clip\n",
        "    video_clip.close()\n",
        "  except Exception as e:\n",
        "    print(f\"Error processing video {video_file}: {e}\")"
      ],
      "metadata": {
        "id": "xAATuyz9rHxo"
      },
      "execution_count": null,
      "outputs": []
    },
    {
      "cell_type": "code",
      "source": [
        "# Input directory containing videos\n",
        "video_dir = '/content/drive/MyDrive/sml data /New Videos Trimmed/container'\n",
        "\n",
        "# Output directory base path for extracted audio (user needs to create it)\n",
        "audio_dir_base = '/content/drive/MyDrive/sml data /Extracted Audio/Non-Recyclable/container'\n",
        "\n",
        "# Ensure the output directory exists\n",
        "os.makedirs(audio_dir_base, exist_ok=True)  # Create directory if it doesn't exist\n",
        "\n",
        "# Get all video filenames in the directory\n",
        "video_filenames = [f for f in os.listdir(video_dir) if f.endswith(\".mp4\") or f.endswith(\".mov\") or f.endswith(\".MOV\")]\n",
        "\n",
        "# Create a progress bar for the entire process\n",
        "with tqdm(total=len(video_filenames), desc=\"Extracting Audio\") as pbar:\n",
        "  for filename in video_filenames:\n",
        "    # Get the video file path\n",
        "    video_file_path = os.path.join(video_dir, filename)\n",
        "\n",
        "    # Generate the audio filename with the same name (without extension) as the video\n",
        "    audio_file_path = os.path.join(audio_dir_base, os.path.splitext(filename)[0] + \".wav\")\n",
        "\n",
        "    # Extract audio from the video file\n",
        "    extract_audio(video_file_path, audio_file_path)\n",
        "\n",
        "    # Update progress bar for each video\n",
        "    pbar.update(1)\n",
        "\n",
        "print(\"Audio extraction complete!\")"
      ],
      "metadata": {
        "id": "gSFBG82viXoz",
        "colab": {
          "base_uri": "https://localhost:8080/"
        },
        "outputId": "2254f9f3-de5a-4cf9-b580-f295f2b2fc3b"
      },
      "execution_count": null,
      "outputs": [
        {
          "output_type": "stream",
          "name": "stderr",
          "text": [
            "Extracting Audio:   0%|          | 0/53 [00:00<?, ?it/s]"
          ]
        },
        {
          "output_type": "stream",
          "name": "stdout",
          "text": [
            "MoviePy - Writing audio in /content/drive/MyDrive/sml data /Extracted Audio/Non-Recyclable/container/container3.wav\n"
          ]
        },
        {
          "output_type": "stream",
          "name": "stderr",
          "text": [
            "\n",
            "chunk:   0%|          | 0/16 [00:00<?, ?it/s, now=None]\u001b[A\n",
            "Extracting Audio:   2%|▏         | 1/53 [00:00<00:21,  2.45it/s]"
          ]
        },
        {
          "output_type": "stream",
          "name": "stdout",
          "text": [
            "MoviePy - Done.\n"
          ]
        },
        {
          "output_type": "stream",
          "name": "stderr",
          "text": [
            "Extracting Audio:   2%|▏         | 1/53 [00:00<00:21,  2.45it/s]"
          ]
        },
        {
          "output_type": "stream",
          "name": "stdout",
          "text": [
            "MoviePy - Writing audio in /content/drive/MyDrive/sml data /Extracted Audio/Non-Recyclable/container/container4.wav\n"
          ]
        },
        {
          "output_type": "stream",
          "name": "stderr",
          "text": [
            "\n",
            "chunk:   0%|          | 0/14 [00:00<?, ?it/s, now=None]\u001b[A\n",
            "Extracting Audio:   4%|▍         | 2/53 [00:00<00:16,  3.11it/s]"
          ]
        },
        {
          "output_type": "stream",
          "name": "stdout",
          "text": [
            "MoviePy - Done.\n"
          ]
        },
        {
          "output_type": "stream",
          "name": "stderr",
          "text": [
            "Extracting Audio:   4%|▍         | 2/53 [00:00<00:16,  3.11it/s]"
          ]
        },
        {
          "output_type": "stream",
          "name": "stdout",
          "text": [
            "MoviePy - Writing audio in /content/drive/MyDrive/sml data /Extracted Audio/Non-Recyclable/container/container5.wav\n"
          ]
        },
        {
          "output_type": "stream",
          "name": "stderr",
          "text": [
            "\n",
            "chunk:   0%|          | 0/18 [00:00<?, ?it/s, now=None]\u001b[A\n",
            "Extracting Audio:   6%|▌         | 3/53 [00:00<00:14,  3.43it/s]"
          ]
        },
        {
          "output_type": "stream",
          "name": "stdout",
          "text": [
            "MoviePy - Done.\n"
          ]
        },
        {
          "output_type": "stream",
          "name": "stderr",
          "text": [
            "Extracting Audio:   6%|▌         | 3/53 [00:01<00:14,  3.43it/s]"
          ]
        },
        {
          "output_type": "stream",
          "name": "stdout",
          "text": [
            "MoviePy - Writing audio in /content/drive/MyDrive/sml data /Extracted Audio/Non-Recyclable/container/container6.wav\n"
          ]
        },
        {
          "output_type": "stream",
          "name": "stderr",
          "text": [
            "\n",
            "chunk:   0%|          | 0/30 [00:00<?, ?it/s, now=None]\u001b[A\n",
            "Extracting Audio:   8%|▊         | 4/53 [00:01<00:14,  3.49it/s]"
          ]
        },
        {
          "output_type": "stream",
          "name": "stdout",
          "text": [
            "MoviePy - Done.\n"
          ]
        },
        {
          "output_type": "stream",
          "name": "stderr",
          "text": [
            "Extracting Audio:   8%|▊         | 4/53 [00:01<00:14,  3.49it/s]"
          ]
        },
        {
          "output_type": "stream",
          "name": "stdout",
          "text": [
            "MoviePy - Writing audio in /content/drive/MyDrive/sml data /Extracted Audio/Non-Recyclable/container/container7.wav\n"
          ]
        },
        {
          "output_type": "stream",
          "name": "stderr",
          "text": [
            "\n",
            "chunk:   0%|          | 0/40 [00:00<?, ?it/s, now=None]\u001b[A\n",
            "Extracting Audio:   9%|▉         | 5/53 [00:01<00:14,  3.31it/s]"
          ]
        },
        {
          "output_type": "stream",
          "name": "stdout",
          "text": [
            "MoviePy - Done.\n"
          ]
        },
        {
          "output_type": "stream",
          "name": "stderr",
          "text": [
            "Extracting Audio:   9%|▉         | 5/53 [00:01<00:14,  3.31it/s]"
          ]
        },
        {
          "output_type": "stream",
          "name": "stdout",
          "text": [
            "MoviePy - Writing audio in /content/drive/MyDrive/sml data /Extracted Audio/Non-Recyclable/container/container8.wav\n"
          ]
        },
        {
          "output_type": "stream",
          "name": "stderr",
          "text": [
            "\n",
            "chunk:   0%|          | 0/13 [00:00<?, ?it/s, now=None]\u001b[A\n",
            "Extracting Audio:  11%|█▏        | 6/53 [00:01<00:13,  3.49it/s]"
          ]
        },
        {
          "output_type": "stream",
          "name": "stdout",
          "text": [
            "MoviePy - Done.\n"
          ]
        },
        {
          "output_type": "stream",
          "name": "stderr",
          "text": [
            "Extracting Audio:  11%|█▏        | 6/53 [00:01<00:13,  3.49it/s]"
          ]
        },
        {
          "output_type": "stream",
          "name": "stdout",
          "text": [
            "MoviePy - Writing audio in /content/drive/MyDrive/sml data /Extracted Audio/Non-Recyclable/container/container9.wav\n"
          ]
        },
        {
          "output_type": "stream",
          "name": "stderr",
          "text": [
            "\n",
            "chunk:   0%|          | 0/14 [00:00<?, ?it/s, now=None]\u001b[A\n",
            "Extracting Audio:  13%|█▎        | 7/53 [00:02<00:12,  3.75it/s]"
          ]
        },
        {
          "output_type": "stream",
          "name": "stdout",
          "text": [
            "MoviePy - Done.\n",
            "MoviePy - Writing audio in /content/drive/MyDrive/sml data /Extracted Audio/Non-Recyclable/container/container10.wav\n"
          ]
        },
        {
          "output_type": "stream",
          "name": "stderr",
          "text": [
            "\n",
            "chunk:   0%|          | 0/12 [00:00<?, ?it/s, now=None]\u001b[A\n",
            "Extracting Audio:  15%|█▌        | 8/53 [00:02<00:10,  4.17it/s]"
          ]
        },
        {
          "output_type": "stream",
          "name": "stdout",
          "text": [
            "MoviePy - Done.\n"
          ]
        },
        {
          "output_type": "stream",
          "name": "stderr",
          "text": [
            "Extracting Audio:  15%|█▌        | 8/53 [00:02<00:10,  4.17it/s]"
          ]
        },
        {
          "output_type": "stream",
          "name": "stdout",
          "text": [
            "MoviePy - Writing audio in /content/drive/MyDrive/sml data /Extracted Audio/Non-Recyclable/container/container16.wav\n"
          ]
        },
        {
          "output_type": "stream",
          "name": "stderr",
          "text": [
            "\n",
            "chunk:   0%|          | 0/6 [00:00<?, ?it/s, now=None]\u001b[A\n",
            "Extracting Audio:  17%|█▋        | 9/53 [00:02<00:09,  4.48it/s]"
          ]
        },
        {
          "output_type": "stream",
          "name": "stdout",
          "text": [
            "MoviePy - Done.\n"
          ]
        },
        {
          "output_type": "stream",
          "name": "stderr",
          "text": [
            "Extracting Audio:  17%|█▋        | 9/53 [00:02<00:09,  4.48it/s]"
          ]
        },
        {
          "output_type": "stream",
          "name": "stdout",
          "text": [
            "MoviePy - Writing audio in /content/drive/MyDrive/sml data /Extracted Audio/Non-Recyclable/container/container20.wav\n"
          ]
        },
        {
          "output_type": "stream",
          "name": "stderr",
          "text": [
            "\n",
            "chunk:   0%|          | 0/10 [00:00<?, ?it/s, now=None]\u001b[A\n"
          ]
        },
        {
          "output_type": "stream",
          "name": "stdout",
          "text": [
            "MoviePy - Done.\n"
          ]
        },
        {
          "output_type": "stream",
          "name": "stderr",
          "text": [
            "\rExtracting Audio:  19%|█▉        | 10/53 [00:02<00:09,  4.54it/s]"
          ]
        },
        {
          "output_type": "stream",
          "name": "stdout",
          "text": [
            "MoviePy - Writing audio in /content/drive/MyDrive/sml data /Extracted Audio/Non-Recyclable/container/container28.wav\n"
          ]
        },
        {
          "output_type": "stream",
          "name": "stderr",
          "text": [
            "\n",
            "chunk:   0%|          | 0/7 [00:00<?, ?it/s, now=None]\u001b[A\n",
            "                                                                 "
          ]
        },
        {
          "output_type": "stream",
          "name": "stdout",
          "text": [
            "MoviePy - Done.\n"
          ]
        },
        {
          "output_type": "stream",
          "name": "stderr",
          "text": [
            "Extracting Audio:  21%|██        | 11/53 [00:02<00:09,  4.62it/s]"
          ]
        },
        {
          "output_type": "stream",
          "name": "stdout",
          "text": [
            "MoviePy - Writing audio in /content/drive/MyDrive/sml data /Extracted Audio/Non-Recyclable/container/container1.wav\n"
          ]
        },
        {
          "output_type": "stream",
          "name": "stderr",
          "text": [
            "\n",
            "chunk:   0%|          | 0/11 [00:00<?, ?it/s, now=None]\u001b[A\n",
            "Extracting Audio:  21%|██        | 11/53 [00:02<00:09,  4.62it/s]"
          ]
        },
        {
          "output_type": "stream",
          "name": "stdout",
          "text": [
            "MoviePy - Done.\n"
          ]
        },
        {
          "output_type": "stream",
          "name": "stderr",
          "text": [
            "Extracting Audio:  23%|██▎       | 12/53 [00:03<00:08,  4.73it/s]"
          ]
        },
        {
          "output_type": "stream",
          "name": "stdout",
          "text": [
            "MoviePy - Writing audio in /content/drive/MyDrive/sml data /Extracted Audio/Non-Recyclable/container/container2.wav\n"
          ]
        },
        {
          "output_type": "stream",
          "name": "stderr",
          "text": [
            "\n",
            "chunk:   0%|          | 0/9 [00:00<?, ?it/s, now=None]\u001b[A\n",
            "Extracting Audio:  23%|██▎       | 12/53 [00:03<00:08,  4.73it/s]"
          ]
        },
        {
          "output_type": "stream",
          "name": "stdout",
          "text": [
            "MoviePy - Done.\n"
          ]
        },
        {
          "output_type": "stream",
          "name": "stderr",
          "text": [
            "Extracting Audio:  25%|██▍       | 13/53 [00:03<00:08,  4.83it/s]"
          ]
        },
        {
          "output_type": "stream",
          "name": "stdout",
          "text": [
            "MoviePy - Writing audio in /content/drive/MyDrive/sml data /Extracted Audio/Non-Recyclable/container/container11.wav\n"
          ]
        },
        {
          "output_type": "stream",
          "name": "stderr",
          "text": [
            "\n",
            "chunk:   0%|          | 0/12 [00:00<?, ?it/s, now=None]\u001b[A\n",
            "Extracting Audio:  26%|██▋       | 14/53 [00:03<00:08,  4.72it/s]"
          ]
        },
        {
          "output_type": "stream",
          "name": "stdout",
          "text": [
            "MoviePy - Done.\n"
          ]
        },
        {
          "output_type": "stream",
          "name": "stderr",
          "text": [
            "Extracting Audio:  26%|██▋       | 14/53 [00:03<00:08,  4.72it/s]"
          ]
        },
        {
          "output_type": "stream",
          "name": "stdout",
          "text": [
            "MoviePy - Writing audio in /content/drive/MyDrive/sml data /Extracted Audio/Non-Recyclable/container/container12.wav\n"
          ]
        },
        {
          "output_type": "stream",
          "name": "stderr",
          "text": [
            "\n",
            "chunk:   0%|          | 0/12 [00:00<?, ?it/s, now=None]\u001b[A\n"
          ]
        },
        {
          "output_type": "stream",
          "name": "stdout",
          "text": [
            "MoviePy - Done.\n"
          ]
        },
        {
          "output_type": "stream",
          "name": "stderr",
          "text": [
            "\rExtracting Audio:  28%|██▊       | 15/53 [00:03<00:08,  4.68it/s]"
          ]
        },
        {
          "output_type": "stream",
          "name": "stdout",
          "text": [
            "MoviePy - Writing audio in /content/drive/MyDrive/sml data /Extracted Audio/Non-Recyclable/container/container14.wav\n"
          ]
        },
        {
          "output_type": "stream",
          "name": "stderr",
          "text": [
            "\n",
            "chunk:   0%|          | 0/6 [00:00<?, ?it/s, now=None]\u001b[A\n",
            "Extracting Audio:  28%|██▊       | 15/53 [00:03<00:08,  4.68it/s]"
          ]
        },
        {
          "output_type": "stream",
          "name": "stdout",
          "text": [
            "MoviePy - Done.\n"
          ]
        },
        {
          "output_type": "stream",
          "name": "stderr",
          "text": [
            "Extracting Audio:  30%|███       | 16/53 [00:03<00:07,  4.80it/s]"
          ]
        },
        {
          "output_type": "stream",
          "name": "stdout",
          "text": [
            "MoviePy - Writing audio in /content/drive/MyDrive/sml data /Extracted Audio/Non-Recyclable/container/container15.wav\n"
          ]
        },
        {
          "output_type": "stream",
          "name": "stderr",
          "text": [
            "\n",
            "chunk:   0%|          | 0/14 [00:00<?, ?it/s, now=None]\u001b[A\n",
            "Extracting Audio:  32%|███▏      | 17/53 [00:04<00:07,  5.01it/s]"
          ]
        },
        {
          "output_type": "stream",
          "name": "stdout",
          "text": [
            "MoviePy - Done.\n"
          ]
        },
        {
          "output_type": "stream",
          "name": "stderr",
          "text": [
            "Extracting Audio:  32%|███▏      | 17/53 [00:04<00:07,  5.01it/s]"
          ]
        },
        {
          "output_type": "stream",
          "name": "stdout",
          "text": [
            "MoviePy - Writing audio in /content/drive/MyDrive/sml data /Extracted Audio/Non-Recyclable/container/container17.wav\n"
          ]
        },
        {
          "output_type": "stream",
          "name": "stderr",
          "text": [
            "\n",
            "chunk:   0%|          | 0/6 [00:00<?, ?it/s, now=None]\u001b[A\n",
            "Extracting Audio:  34%|███▍      | 18/53 [00:04<00:06,  5.08it/s]"
          ]
        },
        {
          "output_type": "stream",
          "name": "stdout",
          "text": [
            "MoviePy - Done.\n"
          ]
        },
        {
          "output_type": "stream",
          "name": "stderr",
          "text": [
            "Extracting Audio:  34%|███▍      | 18/53 [00:04<00:06,  5.08it/s]"
          ]
        },
        {
          "output_type": "stream",
          "name": "stdout",
          "text": [
            "MoviePy - Writing audio in /content/drive/MyDrive/sml data /Extracted Audio/Non-Recyclable/container/container19.wav\n"
          ]
        },
        {
          "output_type": "stream",
          "name": "stderr",
          "text": [
            "\n",
            "chunk:   0%|          | 0/9 [00:00<?, ?it/s, now=None]\u001b[A\n",
            "Extracting Audio:  36%|███▌      | 19/53 [00:04<00:06,  5.19it/s]"
          ]
        },
        {
          "output_type": "stream",
          "name": "stdout",
          "text": [
            "MoviePy - Done.\n"
          ]
        },
        {
          "output_type": "stream",
          "name": "stderr",
          "text": [
            "Extracting Audio:  36%|███▌      | 19/53 [00:04<00:06,  5.19it/s]"
          ]
        },
        {
          "output_type": "stream",
          "name": "stdout",
          "text": [
            "MoviePy - Writing audio in /content/drive/MyDrive/sml data /Extracted Audio/Non-Recyclable/container/container21.wav\n"
          ]
        },
        {
          "output_type": "stream",
          "name": "stderr",
          "text": [
            "\n",
            "chunk:   0%|          | 0/9 [00:00<?, ?it/s, now=None]\u001b[A\n",
            "Extracting Audio:  38%|███▊      | 20/53 [00:04<00:06,  4.95it/s]"
          ]
        },
        {
          "output_type": "stream",
          "name": "stdout",
          "text": [
            "MoviePy - Done.\n",
            "MoviePy - Writing audio in /content/drive/MyDrive/sml data /Extracted Audio/Non-Recyclable/container/container23.wav\n"
          ]
        },
        {
          "output_type": "stream",
          "name": "stderr",
          "text": [
            "\n",
            "chunk:   0%|          | 0/17 [00:00<?, ?it/s, now=None]\u001b[A\n",
            "Extracting Audio:  38%|███▊      | 20/53 [00:04<00:06,  4.95it/s]"
          ]
        },
        {
          "output_type": "stream",
          "name": "stdout",
          "text": [
            "MoviePy - Done.\n"
          ]
        },
        {
          "output_type": "stream",
          "name": "stderr",
          "text": [
            "Extracting Audio:  40%|███▉      | 21/53 [00:04<00:06,  5.02it/s]"
          ]
        },
        {
          "output_type": "stream",
          "name": "stdout",
          "text": [
            "MoviePy - Writing audio in /content/drive/MyDrive/sml data /Extracted Audio/Non-Recyclable/container/container24.wav\n"
          ]
        },
        {
          "output_type": "stream",
          "name": "stderr",
          "text": [
            "\n",
            "chunk:   0%|          | 0/7 [00:00<?, ?it/s, now=None]\u001b[A\n",
            "Extracting Audio:  42%|████▏     | 22/53 [00:04<00:06,  5.11it/s]"
          ]
        },
        {
          "output_type": "stream",
          "name": "stdout",
          "text": [
            "MoviePy - Done.\n"
          ]
        },
        {
          "output_type": "stream",
          "name": "stderr",
          "text": [
            "Extracting Audio:  42%|████▏     | 22/53 [00:05<00:06,  5.11it/s]"
          ]
        },
        {
          "output_type": "stream",
          "name": "stdout",
          "text": [
            "MoviePy - Writing audio in /content/drive/MyDrive/sml data /Extracted Audio/Non-Recyclable/container/container25.wav\n"
          ]
        },
        {
          "output_type": "stream",
          "name": "stderr",
          "text": [
            "\n",
            "chunk:   0%|          | 0/7 [00:00<?, ?it/s, now=None]\u001b[A\n",
            "Extracting Audio:  42%|████▏     | 22/53 [00:05<00:06,  5.11it/s]"
          ]
        },
        {
          "output_type": "stream",
          "name": "stdout",
          "text": [
            "MoviePy - Done.\n"
          ]
        },
        {
          "output_type": "stream",
          "name": "stderr",
          "text": [
            "Extracting Audio:  43%|████▎     | 23/53 [00:05<00:05,  5.10it/s]"
          ]
        },
        {
          "output_type": "stream",
          "name": "stdout",
          "text": [
            "MoviePy - Writing audio in /content/drive/MyDrive/sml data /Extracted Audio/Non-Recyclable/container/container27.wav\n"
          ]
        },
        {
          "output_type": "stream",
          "name": "stderr",
          "text": [
            "\n",
            "chunk:   0%|          | 0/15 [00:00<?, ?it/s, now=None]\u001b[A\n",
            "Extracting Audio:  45%|████▌     | 24/53 [00:05<00:05,  5.15it/s]"
          ]
        },
        {
          "output_type": "stream",
          "name": "stdout",
          "text": [
            "MoviePy - Done.\n"
          ]
        },
        {
          "output_type": "stream",
          "name": "stderr",
          "text": [
            "Extracting Audio:  45%|████▌     | 24/53 [00:05<00:05,  5.15it/s]"
          ]
        },
        {
          "output_type": "stream",
          "name": "stdout",
          "text": [
            "MoviePy - Writing audio in /content/drive/MyDrive/sml data /Extracted Audio/Non-Recyclable/container/container29.wav\n"
          ]
        },
        {
          "output_type": "stream",
          "name": "stderr",
          "text": [
            "\n",
            "chunk:   0%|          | 0/16 [00:00<?, ?it/s, now=None]\u001b[A\n",
            "Extracting Audio:  47%|████▋     | 25/53 [00:05<00:05,  5.14it/s]"
          ]
        },
        {
          "output_type": "stream",
          "name": "stdout",
          "text": [
            "MoviePy - Done.\n"
          ]
        },
        {
          "output_type": "stream",
          "name": "stderr",
          "text": [
            "Extracting Audio:  47%|████▋     | 25/53 [00:05<00:05,  5.14it/s]"
          ]
        },
        {
          "output_type": "stream",
          "name": "stdout",
          "text": [
            "MoviePy - Writing audio in /content/drive/MyDrive/sml data /Extracted Audio/Non-Recyclable/container/container30.wav\n"
          ]
        },
        {
          "output_type": "stream",
          "name": "stderr",
          "text": [
            "\n",
            "chunk:   0%|          | 0/17 [00:00<?, ?it/s, now=None]\u001b[A\n",
            "Extracting Audio:  49%|████▉     | 26/53 [00:05<00:05,  4.89it/s]"
          ]
        },
        {
          "output_type": "stream",
          "name": "stdout",
          "text": [
            "MoviePy - Done.\n"
          ]
        },
        {
          "output_type": "stream",
          "name": "stderr",
          "text": [
            "Extracting Audio:  49%|████▉     | 26/53 [00:05<00:05,  4.89it/s]"
          ]
        },
        {
          "output_type": "stream",
          "name": "stdout",
          "text": [
            "MoviePy - Writing audio in /content/drive/MyDrive/sml data /Extracted Audio/Non-Recyclable/container/container32.wav\n"
          ]
        },
        {
          "output_type": "stream",
          "name": "stderr",
          "text": [
            "\n",
            "chunk:   0%|          | 0/14 [00:00<?, ?it/s, now=None]\u001b[A\n",
            "Extracting Audio:  51%|█████     | 27/53 [00:06<00:05,  4.64it/s]"
          ]
        },
        {
          "output_type": "stream",
          "name": "stdout",
          "text": [
            "MoviePy - Done.\n"
          ]
        },
        {
          "output_type": "stream",
          "name": "stderr",
          "text": [
            "Extracting Audio:  51%|█████     | 27/53 [00:06<00:05,  4.64it/s]"
          ]
        },
        {
          "output_type": "stream",
          "name": "stdout",
          "text": [
            "MoviePy - Writing audio in /content/drive/MyDrive/sml data /Extracted Audio/Non-Recyclable/container/container33.wav\n"
          ]
        },
        {
          "output_type": "stream",
          "name": "stderr",
          "text": [
            "\n",
            "chunk:   0%|          | 0/6 [00:00<?, ?it/s, now=None]\u001b[A\n",
            "Extracting Audio:  53%|█████▎    | 28/53 [00:06<00:05,  4.72it/s]"
          ]
        },
        {
          "output_type": "stream",
          "name": "stdout",
          "text": [
            "MoviePy - Done.\n",
            "MoviePy - Writing audio in /content/drive/MyDrive/sml data /Extracted Audio/Non-Recyclable/container/container34.wav\n"
          ]
        },
        {
          "output_type": "stream",
          "name": "stderr",
          "text": [
            "\n",
            "chunk:   0%|          | 0/20 [00:00<?, ?it/s, now=None]\u001b[A\n",
            "Extracting Audio:  55%|█████▍    | 29/53 [00:06<00:04,  4.85it/s]"
          ]
        },
        {
          "output_type": "stream",
          "name": "stdout",
          "text": [
            "MoviePy - Done.\n"
          ]
        },
        {
          "output_type": "stream",
          "name": "stderr",
          "text": [
            "Extracting Audio:  55%|█████▍    | 29/53 [00:06<00:04,  4.85it/s]"
          ]
        },
        {
          "output_type": "stream",
          "name": "stdout",
          "text": [
            "MoviePy - Writing audio in /content/drive/MyDrive/sml data /Extracted Audio/Non-Recyclable/container/container37.wav\n"
          ]
        },
        {
          "output_type": "stream",
          "name": "stderr",
          "text": [
            "\n",
            "chunk:   0%|          | 0/26 [00:00<?, ?it/s, now=None]\u001b[A\n",
            "Extracting Audio:  57%|█████▋    | 30/53 [00:06<00:05,  4.55it/s]"
          ]
        },
        {
          "output_type": "stream",
          "name": "stdout",
          "text": [
            "MoviePy - Done.\n"
          ]
        },
        {
          "output_type": "stream",
          "name": "stderr",
          "text": [
            "Extracting Audio:  57%|█████▋    | 30/53 [00:06<00:05,  4.55it/s]"
          ]
        },
        {
          "output_type": "stream",
          "name": "stdout",
          "text": [
            "MoviePy - Writing audio in /content/drive/MyDrive/sml data /Extracted Audio/Non-Recyclable/container/container38.wav\n"
          ]
        },
        {
          "output_type": "stream",
          "name": "stderr",
          "text": [
            "\n",
            "chunk:   0%|          | 0/20 [00:00<?, ?it/s, now=None]\u001b[A\n",
            "Extracting Audio:  58%|█████▊    | 31/53 [00:07<00:04,  4.67it/s]"
          ]
        },
        {
          "output_type": "stream",
          "name": "stdout",
          "text": [
            "MoviePy - Done.\n",
            "MoviePy - Writing audio in /content/drive/MyDrive/sml data /Extracted Audio/Non-Recyclable/container/container39.wav\n"
          ]
        },
        {
          "output_type": "stream",
          "name": "stderr",
          "text": [
            "\n",
            "chunk:   0%|          | 0/18 [00:00<?, ?it/s, now=None]\u001b[A\n",
            "Extracting Audio:  60%|██████    | 32/53 [00:07<00:04,  4.69it/s]"
          ]
        },
        {
          "output_type": "stream",
          "name": "stdout",
          "text": [
            "MoviePy - Done.\n",
            "MoviePy - Writing audio in /content/drive/MyDrive/sml data /Extracted Audio/Non-Recyclable/container/container40.wav\n"
          ]
        },
        {
          "output_type": "stream",
          "name": "stderr",
          "text": [
            "\n",
            "chunk:   0%|          | 0/26 [00:00<?, ?it/s, now=None]\u001b[A\n",
            "Extracting Audio:  60%|██████    | 32/53 [00:07<00:04,  4.69it/s]"
          ]
        },
        {
          "output_type": "stream",
          "name": "stdout",
          "text": [
            "MoviePy - Done.\n"
          ]
        },
        {
          "output_type": "stream",
          "name": "stderr",
          "text": [
            "Extracting Audio:  62%|██████▏   | 33/53 [00:07<00:04,  4.76it/s]"
          ]
        },
        {
          "output_type": "stream",
          "name": "stdout",
          "text": [
            "MoviePy - Writing audio in /content/drive/MyDrive/sml data /Extracted Audio/Non-Recyclable/container/container41.wav\n"
          ]
        },
        {
          "output_type": "stream",
          "name": "stderr",
          "text": [
            "\n",
            "chunk:   0%|          | 0/14 [00:00<?, ?it/s, now=None]\u001b[A\n",
            "Extracting Audio:  62%|██████▏   | 33/53 [00:07<00:04,  4.76it/s]"
          ]
        },
        {
          "output_type": "stream",
          "name": "stdout",
          "text": [
            "MoviePy - Done.\n"
          ]
        },
        {
          "output_type": "stream",
          "name": "stderr",
          "text": [
            "Extracting Audio:  64%|██████▍   | 34/53 [00:07<00:03,  4.83it/s]"
          ]
        },
        {
          "output_type": "stream",
          "name": "stdout",
          "text": [
            "MoviePy - Writing audio in /content/drive/MyDrive/sml data /Extracted Audio/Non-Recyclable/container/container44.wav\n"
          ]
        },
        {
          "output_type": "stream",
          "name": "stderr",
          "text": [
            "\n",
            "chunk:   0%|          | 0/23 [00:00<?, ?it/s, now=None]\u001b[A\n",
            "                                                                 "
          ]
        },
        {
          "output_type": "stream",
          "name": "stdout",
          "text": [
            "MoviePy - Done.\n"
          ]
        },
        {
          "output_type": "stream",
          "name": "stderr",
          "text": [
            "Extracting Audio:  66%|██████▌   | 35/53 [00:08<00:04,  3.87it/s]"
          ]
        },
        {
          "output_type": "stream",
          "name": "stdout",
          "text": [
            "MoviePy - Writing audio in /content/drive/MyDrive/sml data /Extracted Audio/Non-Recyclable/container/container45.wav\n"
          ]
        },
        {
          "output_type": "stream",
          "name": "stderr",
          "text": [
            "\n",
            "chunk:   0%|          | 0/12 [00:00<?, ?it/s, now=None]\u001b[A\n",
            "Extracting Audio:  68%|██████▊   | 36/53 [00:08<00:04,  4.14it/s]"
          ]
        },
        {
          "output_type": "stream",
          "name": "stdout",
          "text": [
            "MoviePy - Done.\n",
            "MoviePy - Writing audio in /content/drive/MyDrive/sml data /Extracted Audio/Non-Recyclable/container/container49.wav\n"
          ]
        },
        {
          "output_type": "stream",
          "name": "stderr",
          "text": [
            "\n",
            "chunk:   0%|          | 0/11 [00:00<?, ?it/s, now=None]\u001b[A\n",
            "Extracting Audio:  70%|██████▉   | 37/53 [00:08<00:03,  4.29it/s]"
          ]
        },
        {
          "output_type": "stream",
          "name": "stdout",
          "text": [
            "MoviePy - Done.\n",
            "MoviePy - Writing audio in /content/drive/MyDrive/sml data /Extracted Audio/Non-Recyclable/container/container50.wav\n"
          ]
        },
        {
          "output_type": "stream",
          "name": "stderr",
          "text": [
            "\n",
            "chunk:   0%|          | 0/35 [00:00<?, ?it/s, now=None]\u001b[A\n",
            "Extracting Audio:  72%|███████▏  | 38/53 [00:08<00:03,  4.35it/s]"
          ]
        },
        {
          "output_type": "stream",
          "name": "stdout",
          "text": [
            "MoviePy - Done.\n",
            "MoviePy - Writing audio in /content/drive/MyDrive/sml data /Extracted Audio/Non-Recyclable/container/container51.wav\n"
          ]
        },
        {
          "output_type": "stream",
          "name": "stderr",
          "text": [
            "\n",
            "chunk:   0%|          | 0/25 [00:00<?, ?it/s, now=None]\u001b[A\n",
            "Extracting Audio:  74%|███████▎  | 39/53 [00:08<00:03,  4.35it/s]"
          ]
        },
        {
          "output_type": "stream",
          "name": "stdout",
          "text": [
            "MoviePy - Done.\n",
            "MoviePy - Writing audio in /content/drive/MyDrive/sml data /Extracted Audio/Non-Recyclable/container/container54.wav\n"
          ]
        },
        {
          "output_type": "stream",
          "name": "stderr",
          "text": [
            "\n",
            "chunk:   0%|          | 0/23 [00:00<?, ?it/s, now=None]\u001b[A\n",
            "Extracting Audio:  75%|███████▌  | 40/53 [00:09<00:02,  4.41it/s]"
          ]
        },
        {
          "output_type": "stream",
          "name": "stdout",
          "text": [
            "MoviePy - Done.\n",
            "MoviePy - Writing audio in /content/drive/MyDrive/sml data /Extracted Audio/Non-Recyclable/container/container55.wav\n"
          ]
        },
        {
          "output_type": "stream",
          "name": "stderr",
          "text": [
            "\n",
            "chunk:   0%|          | 0/15 [00:00<?, ?it/s, now=None]\u001b[A\n",
            "Extracting Audio:  77%|███████▋  | 41/53 [00:09<00:02,  4.66it/s]"
          ]
        },
        {
          "output_type": "stream",
          "name": "stdout",
          "text": [
            "MoviePy - Done.\n"
          ]
        },
        {
          "output_type": "stream",
          "name": "stderr",
          "text": [
            "Extracting Audio:  77%|███████▋  | 41/53 [00:09<00:02,  4.66it/s]"
          ]
        },
        {
          "output_type": "stream",
          "name": "stdout",
          "text": [
            "MoviePy - Writing audio in /content/drive/MyDrive/sml data /Extracted Audio/Non-Recyclable/container/container59.wav\n"
          ]
        },
        {
          "output_type": "stream",
          "name": "stderr",
          "text": [
            "\n",
            "chunk:   0%|          | 0/10 [00:00<?, ?it/s, now=None]\u001b[A\n",
            "Extracting Audio:  77%|███████▋  | 41/53 [00:09<00:02,  4.66it/s]"
          ]
        },
        {
          "output_type": "stream",
          "name": "stdout",
          "text": [
            "MoviePy - Done.\n"
          ]
        },
        {
          "output_type": "stream",
          "name": "stderr",
          "text": [
            "Extracting Audio:  79%|███████▉  | 42/53 [00:09<00:02,  4.79it/s]"
          ]
        },
        {
          "output_type": "stream",
          "name": "stdout",
          "text": [
            "MoviePy - Writing audio in /content/drive/MyDrive/sml data /Extracted Audio/Non-Recyclable/container/container60.wav\n"
          ]
        },
        {
          "output_type": "stream",
          "name": "stderr",
          "text": [
            "\n",
            "chunk:   0%|          | 0/14 [00:00<?, ?it/s, now=None]\u001b[A\n",
            "Extracting Audio:  81%|████████  | 43/53 [00:09<00:02,  4.92it/s]"
          ]
        },
        {
          "output_type": "stream",
          "name": "stdout",
          "text": [
            "MoviePy - Done.\n"
          ]
        },
        {
          "output_type": "stream",
          "name": "stderr",
          "text": [
            "Extracting Audio:  81%|████████  | 43/53 [00:09<00:02,  4.92it/s]"
          ]
        },
        {
          "output_type": "stream",
          "name": "stdout",
          "text": [
            "MoviePy - Writing audio in /content/drive/MyDrive/sml data /Extracted Audio/Non-Recyclable/container/container61.wav\n"
          ]
        },
        {
          "output_type": "stream",
          "name": "stderr",
          "text": [
            "\n",
            "chunk:   0%|          | 0/19 [00:00<?, ?it/s, now=None]\u001b[A\n",
            "Extracting Audio:  83%|████████▎ | 44/53 [00:09<00:01,  4.70it/s]"
          ]
        },
        {
          "output_type": "stream",
          "name": "stdout",
          "text": [
            "MoviePy - Done.\n"
          ]
        },
        {
          "output_type": "stream",
          "name": "stderr",
          "text": [
            "Extracting Audio:  83%|████████▎ | 44/53 [00:09<00:01,  4.70it/s]"
          ]
        },
        {
          "output_type": "stream",
          "name": "stdout",
          "text": [
            "MoviePy - Writing audio in /content/drive/MyDrive/sml data /Extracted Audio/Non-Recyclable/container/container62.wav\n"
          ]
        },
        {
          "output_type": "stream",
          "name": "stderr",
          "text": [
            "\n",
            "chunk:   0%|          | 0/22 [00:00<?, ?it/s, now=None]\u001b[A\n",
            "Extracting Audio:  85%|████████▍ | 45/53 [00:10<00:01,  4.64it/s]"
          ]
        },
        {
          "output_type": "stream",
          "name": "stdout",
          "text": [
            "MoviePy - Done.\n"
          ]
        },
        {
          "output_type": "stream",
          "name": "stderr",
          "text": [
            "Extracting Audio:  85%|████████▍ | 45/53 [00:10<00:01,  4.64it/s]"
          ]
        },
        {
          "output_type": "stream",
          "name": "stdout",
          "text": [
            "MoviePy - Writing audio in /content/drive/MyDrive/sml data /Extracted Audio/Non-Recyclable/container/container63.wav\n"
          ]
        },
        {
          "output_type": "stream",
          "name": "stderr",
          "text": [
            "\n",
            "chunk:   0%|          | 0/34 [00:00<?, ?it/s, now=None]\u001b[A\n",
            "Extracting Audio:  87%|████████▋ | 46/53 [00:10<00:01,  4.57it/s]"
          ]
        },
        {
          "output_type": "stream",
          "name": "stdout",
          "text": [
            "MoviePy - Done.\n"
          ]
        },
        {
          "output_type": "stream",
          "name": "stderr",
          "text": [
            "Extracting Audio:  87%|████████▋ | 46/53 [00:10<00:01,  4.57it/s]"
          ]
        },
        {
          "output_type": "stream",
          "name": "stdout",
          "text": [
            "MoviePy - Writing audio in /content/drive/MyDrive/sml data /Extracted Audio/Non-Recyclable/container/container64.wav\n"
          ]
        },
        {
          "output_type": "stream",
          "name": "stderr",
          "text": [
            "\n",
            "chunk:   0%|          | 0/10 [00:00<?, ?it/s, now=None]\u001b[A\n",
            "Extracting Audio:  89%|████████▊ | 47/53 [00:10<00:01,  4.62it/s]"
          ]
        },
        {
          "output_type": "stream",
          "name": "stdout",
          "text": [
            "MoviePy - Done.\n"
          ]
        },
        {
          "output_type": "stream",
          "name": "stderr",
          "text": [
            "Extracting Audio:  89%|████████▊ | 47/53 [00:10<00:01,  4.62it/s]"
          ]
        },
        {
          "output_type": "stream",
          "name": "stdout",
          "text": [
            "MoviePy - Writing audio in /content/drive/MyDrive/sml data /Extracted Audio/Non-Recyclable/container/container65.wav\n"
          ]
        },
        {
          "output_type": "stream",
          "name": "stderr",
          "text": [
            "\n",
            "chunk:   0%|          | 0/17 [00:00<?, ?it/s, now=None]\u001b[A\n",
            "Extracting Audio:  91%|█████████ | 48/53 [00:10<00:01,  4.58it/s]"
          ]
        },
        {
          "output_type": "stream",
          "name": "stdout",
          "text": [
            "MoviePy - Done.\n"
          ]
        },
        {
          "output_type": "stream",
          "name": "stderr",
          "text": [
            "Extracting Audio:  91%|█████████ | 48/53 [00:10<00:01,  4.58it/s]"
          ]
        },
        {
          "output_type": "stream",
          "name": "stdout",
          "text": [
            "MoviePy - Writing audio in /content/drive/MyDrive/sml data /Extracted Audio/Non-Recyclable/container/container66.wav\n"
          ]
        },
        {
          "output_type": "stream",
          "name": "stderr",
          "text": [
            "\n",
            "chunk:   0%|          | 0/17 [00:00<?, ?it/s, now=None]\u001b[A\n",
            "Extracting Audio:  92%|█████████▏| 49/53 [00:10<00:00,  4.52it/s]"
          ]
        },
        {
          "output_type": "stream",
          "name": "stdout",
          "text": [
            "MoviePy - Done.\n"
          ]
        },
        {
          "output_type": "stream",
          "name": "stderr",
          "text": [
            "Extracting Audio:  92%|█████████▏| 49/53 [00:11<00:00,  4.52it/s]"
          ]
        },
        {
          "output_type": "stream",
          "name": "stdout",
          "text": [
            "MoviePy - Writing audio in /content/drive/MyDrive/sml data /Extracted Audio/Non-Recyclable/container/container67.wav\n"
          ]
        },
        {
          "output_type": "stream",
          "name": "stderr",
          "text": [
            "\n",
            "chunk:   0%|          | 0/21 [00:00<?, ?it/s, now=None]\u001b[A\n",
            "Extracting Audio:  94%|█████████▍| 50/53 [00:11<00:00,  4.57it/s]"
          ]
        },
        {
          "output_type": "stream",
          "name": "stdout",
          "text": [
            "MoviePy - Done.\n"
          ]
        },
        {
          "output_type": "stream",
          "name": "stderr",
          "text": [
            "Extracting Audio:  94%|█████████▍| 50/53 [00:11<00:00,  4.57it/s]"
          ]
        },
        {
          "output_type": "stream",
          "name": "stdout",
          "text": [
            "MoviePy - Writing audio in /content/drive/MyDrive/sml data /Extracted Audio/Non-Recyclable/container/container68.wav\n"
          ]
        },
        {
          "output_type": "stream",
          "name": "stderr",
          "text": [
            "\n",
            "chunk:   0%|          | 0/21 [00:00<?, ?it/s, now=None]\u001b[A\n",
            "Extracting Audio:  96%|█████████▌| 51/53 [00:11<00:00,  4.59it/s]"
          ]
        },
        {
          "output_type": "stream",
          "name": "stdout",
          "text": [
            "MoviePy - Done.\n"
          ]
        },
        {
          "output_type": "stream",
          "name": "stderr",
          "text": [
            "Extracting Audio:  96%|█████████▌| 51/53 [00:11<00:00,  4.59it/s]"
          ]
        },
        {
          "output_type": "stream",
          "name": "stdout",
          "text": [
            "MoviePy - Writing audio in /content/drive/MyDrive/sml data /Extracted Audio/Non-Recyclable/container/container69.wav\n"
          ]
        },
        {
          "output_type": "stream",
          "name": "stderr",
          "text": [
            "\n",
            "chunk:   0%|          | 0/21 [00:00<?, ?it/s, now=None]\u001b[A\n",
            "Extracting Audio:  98%|█████████▊| 52/53 [00:11<00:00,  4.57it/s]"
          ]
        },
        {
          "output_type": "stream",
          "name": "stdout",
          "text": [
            "MoviePy - Done.\n"
          ]
        },
        {
          "output_type": "stream",
          "name": "stderr",
          "text": [
            "Extracting Audio:  98%|█████████▊| 52/53 [00:11<00:00,  4.57it/s]"
          ]
        },
        {
          "output_type": "stream",
          "name": "stdout",
          "text": [
            "MoviePy - Writing audio in /content/drive/MyDrive/sml data /Extracted Audio/Non-Recyclable/container/container70.wav\n"
          ]
        },
        {
          "output_type": "stream",
          "name": "stderr",
          "text": [
            "\n",
            "chunk:   0%|          | 0/13 [00:00<?, ?it/s, now=None]\u001b[A\n",
            "Extracting Audio: 100%|██████████| 53/53 [00:11<00:00,  4.51it/s]"
          ]
        },
        {
          "output_type": "stream",
          "name": "stdout",
          "text": [
            "MoviePy - Done.\n",
            "Audio extraction complete!\n"
          ]
        },
        {
          "output_type": "stream",
          "name": "stderr",
          "text": [
            "\n"
          ]
        }
      ]
    },
    {
      "cell_type": "markdown",
      "source": [
        "####feature extraction"
      ],
      "metadata": {
        "id": "nT9ZiYt0Y8Wv"
      }
    },
    {
      "cell_type": "code",
      "source": [
        "import os\n",
        "from tqdm import tqdm\n",
        "from PIL import Image\n",
        "import numpy as np\n",
        "from tensorflow.keras.applications import VGG16\n",
        "import pandas as pd"
      ],
      "metadata": {
        "id": "pxTUiVSuSzEE"
      },
      "execution_count": null,
      "outputs": []
    },
    {
      "cell_type": "code",
      "source": [
        "# List to store features and labels\n",
        "features_list = []\n",
        "labels_list = []\n",
        "\n",
        "def process_folder(folder_path, class_label):\n",
        "    # Use tqdm for progress bar\n",
        "    items = os.listdir(folder_path)\n",
        "    pbar = tqdm(total=len(items))\n",
        "\n",
        "    for item in items:\n",
        "        item_path = os.path.join(folder_path, item)\n",
        "\n",
        "        if os.path.isdir(item_path):\n",
        "            # Recursively call the function for subfolders\n",
        "            process_folder(item_path, class_label)\n",
        "        else:\n",
        "            if item.endswith(\".jpg\"):  # Adjust filename extension check\n",
        "                try:\n",
        "                    # Load the image\n",
        "                    frame = Image.open(item_path)\n",
        "                    frame = np.array(frame)\n",
        "\n",
        "                    # Use VGG16 for feature extraction (excluding final layers)\n",
        "                    model = VGG16(weights='imagenet', include_top=False)  # Load pre-trained VGG16\n",
        "                    features = model.predict(np.expand_dims(frame, axis=0))  # Extract features\n",
        "\n",
        "                    # Flatten or reshape features as needed\n",
        "                    features = features.flatten()  # Replace with appropriate flattening/reshaping\n",
        "\n",
        "                    # Append features to the list\n",
        "                    features_list.append(features)\n",
        "                    labels_list.append(class_label)  # Store the label corresponding to the features\n",
        "                except Exception as e:\n",
        "                    print(f\"Error processing image {item_path}: {e}\")\n",
        "\n",
        "        pbar.update(1)\n",
        "\n",
        "    pbar.close()"
      ],
      "metadata": {
        "id": "vdbRx9_aza5c"
      },
      "execution_count": null,
      "outputs": []
    },
    {
      "cell_type": "code",
      "source": [
        "# Path to the recyclable folder\n",
        "recyclable_folder_path = \"/content/drive/MyDrive/sml data /Extracted Frames/Recyclable\"\n",
        "\n",
        "# Start processing from the recyclable folder\n",
        "process_folder(recyclable_folder_path, \"Recyclable\")  # Passing \"Recyclable\" as the class label\n",
        "\n",
        "# Path to the non-recyclable folder\n",
        "non_recyclable_folder_path = \"/content/drive/MyDrive/sml data /Extracted Frames/Non-Recyclable\"\n",
        "\n",
        "# Start processing from the non-recyclable folder\n",
        "process_folder(non_recyclable_folder_path, \"Non-recyclable\")  # Passing \"Non-recyclable\" as the class label\n",
        "\n",
        "# Convert features and labels lists to NumPy arrays\n",
        "features_array = np.array(features_list)\n",
        "labels_array = np.array(labels_list)\n",
        "\n",
        "# Shuffle the order of features and labels\n",
        "shuffle_indices = np.random.permutation(features_array.shape[0])\n",
        "shuffled_features = features_array[shuffle_indices]\n",
        "shuffled_labels = labels_array[shuffle_indices]"
      ],
      "metadata": {
        "id": "ISQRtTJgSrRn"
      },
      "execution_count": null,
      "outputs": []
    },
    {
      "cell_type": "code",
      "source": [
        "# Save features and labels arrays to numpy files\n",
        "np.save(\"/content/drive/MyDrive/sml data /Extracted Frames/Features/features.npy\", features_array)\n",
        "np.save(\"/content/drive/MyDrive/sml data /Extracted Frames/Features/labels.npy\", labels_array)"
      ],
      "metadata": {
        "id": "SIaDL6TpSn0o"
      },
      "execution_count": null,
      "outputs": []
    },
    {
      "cell_type": "code",
      "source": [
        "# Create DataFrame from shuffled features and labels\n",
        "df = pd.DataFrame(data={\"features\": shuffled_features.tolist(), \"labels\": shuffled_labels})\n",
        "df.to_csv(\"/content/drive/MyDrive/sml data /Extracted Frames/Features/featuresDF.csv\", index=False)"
      ],
      "metadata": {
        "id": "AzJl3cxGSmvq"
      },
      "execution_count": null,
      "outputs": []
    },
    {
      "cell_type": "markdown",
      "source": [
        "####video model"
      ],
      "metadata": {
        "id": "R3Q6cI5u1vU8"
      }
    },
    {
      "cell_type": "code",
      "source": [
        "from tensorflow.keras.models import Sequential\n",
        "from tensorflow.keras.layers import Dense, Dropout, Flatten\n",
        "from tensorflow.keras.utils import to_categorical  # for one-hot encoding (if needed)\n",
        "from tensorflow.keras.callbacks import EarlyStopping, ModelCheckpoint  # for monitoring and saving\n",
        "\n",
        "# Additional imports based on your needs (e.g., normalization)\n",
        "from sklearn.model_selection import train_test_split\n",
        "from sklearn.preprocessing import StandardScaler  # for feature normalization"
      ],
      "metadata": {
        "id": "ek8jHiprdJaK"
      },
      "execution_count": null,
      "outputs": []
    },
    {
      "cell_type": "code",
      "source": [
        "# Assuming your DataFrame is named 'df'\n",
        "X = shuffled_df['image']\n",
        "y = shuffled_df['class']  # Extract class labels"
      ],
      "metadata": {
        "id": "J4nKoUs92FqZ"
      },
      "execution_count": null,
      "outputs": []
    },
    {
      "cell_type": "code",
      "source": [
        "# Assuming X is a list of feature arrays (object type)\n",
        "X_flattened = []\n",
        "for features in X:\n",
        "  flattened_features = features.flatten()  # Flatten each feature array\n",
        "  X_flattened.append(flattened_features)\n",
        "X = np.array(X_flattened)"
      ],
      "metadata": {
        "id": "NFW0N4ap9Rzw"
      },
      "execution_count": null,
      "outputs": []
    },
    {
      "cell_type": "code",
      "source": [
        "from sklearn.model_selection import train_test_split\n",
        "from sklearn.metrics import accuracy_score, classification_report\n",
        "from sklearn.linear_model import LogisticRegression\n",
        "from sklearn.neighbors import KNeighborsClassifier\n",
        "from sklearn.svm import SVC\n",
        "from sklearn.ensemble import RandomForestClassifier\n",
        "from sklearn.naive_bayes import GaussianNB\n",
        "\n",
        "# Split data into training and testing sets\n",
        "X_train, X_test, y_train, y_test = train_test_split(X, y, test_size=0.2, random_state=42)  # Adjust test_size and random_state as needed"
      ],
      "metadata": {
        "id": "6L1c8n8GUGrC"
      },
      "execution_count": null,
      "outputs": []
    },
    {
      "cell_type": "code",
      "source": [
        "# Logistic Regression\n",
        "lr_model = LogisticRegression()\n",
        "lr_model.fit(X_train, y_train)\n",
        "lr_predictions = lr_model.predict(X_test)\n",
        "lr_accuracy = accuracy_score(y_test, lr_predictions)\n",
        "print(\"Logistic Regression Testing Accuracy:\", lr_accuracy)\n",
        "print(\"Logistic Regression Classification Report:\\n\", classification_report(y_test, lr_predictions))"
      ],
      "metadata": {
        "id": "_FX3jtXwUPL0"
      },
      "execution_count": null,
      "outputs": []
    },
    {
      "cell_type": "code",
      "source": [
        "# KNN Classifier\n",
        "knn_model = KNeighborsClassifier(n_neighbors=5)\n",
        "knn_model.fit(X_train, y_train)\n",
        "knn_predictions = knn_model.predict(X_test)\n",
        "knn_accuracy = accuracy_score(y_test, knn_predictions)\n",
        "print(\"KNN Testing Accuracy:\", knn_accuracy)\n",
        "print(\"KNN Classification Report:\\n\", classification_report(y_test, knn_predictions))"
      ],
      "metadata": {
        "id": "t0u--woSUNUm"
      },
      "execution_count": null,
      "outputs": []
    },
    {
      "cell_type": "code",
      "source": [
        "# SVM Classifier\n",
        "svm_model = SVC(kernel='linear')\n",
        "svm_model.fit(X_train, y_train)\n",
        "svm_predictions = svm_model.predict(X_test)\n",
        "svm_accuracy = accuracy_score(y_test, svm_predictions)\n",
        "print(\"SVM Testing Accuracy:\", svm_accuracy)\n",
        "print(\"SVM Classification Report:\\n\", classification_report(y_test, svm_predictions))"
      ],
      "metadata": {
        "id": "C88bCPEEUK_M"
      },
      "execution_count": null,
      "outputs": []
    },
    {
      "cell_type": "code",
      "source": [
        "# Random Forest Classifier\n",
        "rf_model = RandomForestClassifier(n_estimators=100)\n",
        "rf_model.fit(X_train, y_train)\n",
        "rf_predictions = rf_model.predict(X_test)\n",
        "rf_accuracy = accuracy_score(y_test, rf_predictions)\n",
        "print(\"Random Forest Testing Accuracy:\", rf_accuracy)\n",
        "print(\"Random Forest Classification Report:\\n\", classification_report(y_test, rf_predictions))"
      ],
      "metadata": {
        "id": "AvdvHpKTUJeY"
      },
      "execution_count": null,
      "outputs": []
    },
    {
      "cell_type": "code",
      "source": [
        "# Naive Bayes Classifier\n",
        "nb_model = GaussianNB()\n",
        "nb_model.fit(X_train, y_train)\n",
        "nb_predictions = nb_model.predict(X_test)\n",
        "nb_accuracy = accuracy_score(y_test, nb_predictions)\n",
        "print(\"Naive Bayes Testing Accuracy:\", nb_accuracy)\n",
        "print(\"Naive Bayes Classification Report:\\n\", classification_report(y_test, nb_predictions))"
      ],
      "metadata": {
        "id": "x-lre-oyUHht"
      },
      "execution_count": null,
      "outputs": []
    },
    {
      "cell_type": "markdown",
      "source": [
        "####test model"
      ],
      "metadata": {
        "id": "fiJCkWpBTjg7"
      }
    },
    {
      "cell_type": "code",
      "source": [
        "# video\n",
        "\n",
        "import cv2\n",
        "import numpy as np\n",
        "from tensorflow.keras.applications.vgg16 import VGG16  # Assuming TensorFlow backend\n",
        "\n",
        "def preprocess_video(video_path, target_size=(128, 128)):\n",
        "    \"\"\"Reads frames from a video, preprocesses, and resizes them.\"\"\"\n",
        "    cap = cv2.VideoCapture(video_path)\n",
        "    frames = []\n",
        "    while True:\n",
        "        ret, frame = cap.read()\n",
        "        if not ret:\n",
        "            break\n",
        "        frame_rgb = cv2.cvtColor(frame, cv2.COLOR_BGR2RGB)\n",
        "        frame_rgb = cv2.resize(frame_rgb, target_size)\n",
        "        frames.append(frame_rgb)\n",
        "    cap.release()\n",
        "    return np.array(frames)\n",
        "\n",
        "def predict_with_models(models, video_path):\n",
        "    \"\"\"Predicts image class using multiple models on video frames.\"\"\"\n",
        "    frames = preprocess_video(video_path)\n",
        "    model = VGG16(weights='imagenet', include_top=False)\n",
        "    features = model.predict(frames)\n",
        "    n_frames, n_features = features.shape[0], features.shape[1]\n",
        "    print(f\"Number of frames: {n_frames}, Number of features extracted from VGG16: {n_features}\")\n",
        "\n",
        "    # Flatten the features\n",
        "    flattened_features = features.reshape(n_frames, -1)\n",
        "\n",
        "    for model in models:\n",
        "        # Preprocess features if necessary based on model requirements\n",
        "        model_features = flattened_features  # Replace with model-specific preprocessing if needed\n",
        "        outputs = model.predict(model_features)\n",
        "        print(f\"Predictions from {model.__class__.__name__}: {outputs}\")\n",
        "\n",
        "# Define your models here\n",
        "models = [model, knn_model, svm_model, rf_model, nb_model]\n",
        "\n",
        "# Provide path to your video\n",
        "video_path = '/content/drive/MyDrive/sml data /New Videos Trimmed/plastic fork/fork1.mov'\n",
        "\n",
        "predict_with_models(models, video_path)"
      ],
      "metadata": {
        "id": "Hg3fVYDgChEV",
        "colab": {
          "base_uri": "https://localhost:8080/"
        },
        "outputId": "9bc3f1f2-b86f-4fb8-935d-96fdf0b8d85d"
      },
      "execution_count": null,
      "outputs": [
        {
          "output_type": "stream",
          "name": "stdout",
          "text": [
            "1/1 [==============================] - 0s 129ms/step\n",
            "Number of frames: 10, Number of features extracted from VGG16: 4\n",
            "Predictions from LogisticRegression: [1 1 1 1 1 1 1 1 1 1]\n",
            "Predictions from KNeighborsClassifier: [1 1 1 1 1 1 1 1 1 1]\n",
            "Predictions from SVC: [1 1 1 1 1 1 1 1 1 1]\n",
            "Predictions from RandomForestClassifier: [1 1 1 1 1 1 1 1 1 1]\n",
            "Predictions from GaussianNB: [0 0 0 0 0 0 1 0 0 0]\n"
          ]
        }
      ]
    },
    {
      "cell_type": "code",
      "source": [
        "# mode of each model (video)\n",
        "\n",
        "from scipy.stats import mode\n",
        "\n",
        "def predict_with_models(models, video_path):\n",
        "    \"\"\"Predicts image class using multiple models on video frames and returns the mode for each model.\"\"\"\n",
        "    frames = preprocess_video(video_path)\n",
        "    model = VGG16(weights='imagenet', include_top=False)\n",
        "    features = model.predict(frames)\n",
        "    n_frames, n_features = features.shape[0], features.shape[1]\n",
        "    print(f\"Number of frames: {n_frames}, Number of features extracted from VGG16: {n_features}\")\n",
        "\n",
        "    # Flatten the features\n",
        "    flattened_features = features.reshape(n_frames, -1)\n",
        "\n",
        "    for model_idx, model in enumerate(models):\n",
        "        all_predictions = []\n",
        "\n",
        "        # Preprocess features if necessary based on model requirements\n",
        "        model_features = flattened_features  # Replace with model-specific preprocessing if needed\n",
        "        outputs = model.predict(model_features)\n",
        "        all_predictions.append(outputs)\n",
        "\n",
        "        # Calculate mode of predictions for the current model\n",
        "        mode_predictions = mode(np.array(all_predictions), axis=0)[0][0]\n",
        "        print(f\"Mode prediction from {model.__class__.__name__}: {mode_predictions}\")\n",
        "\n",
        "# Define your models here\n",
        "models = [model, knn_model, svm_model, rf_model, nb_model]\n",
        "\n",
        "# Provide path to your video\n",
        "video_path = '/content/drive/MyDrive/sml data /New Videos Trimmed/plastic fork/fork1.mov'\n",
        "\n",
        "predict_with_models(models, video_path)"
      ],
      "metadata": {
        "colab": {
          "base_uri": "https://localhost:8080/"
        },
        "id": "ZL4N4Mrez1Fq",
        "outputId": "3d6aaac3-3712-4010-ab9c-4af2bf47c595"
      },
      "execution_count": null,
      "outputs": [
        {
          "output_type": "stream",
          "name": "stdout",
          "text": [
            "1/1 [==============================] - 0s 127ms/step\n",
            "Number of frames: 10, Number of features extracted from VGG16: 4\n",
            "Mode prediction from LogisticRegression: 1\n",
            "Mode prediction from KNeighborsClassifier: 1\n",
            "Mode prediction from SVC: 1\n",
            "Mode prediction from RandomForestClassifier: 1\n",
            "Mode prediction from GaussianNB: 0\n"
          ]
        }
      ]
    },
    {
      "cell_type": "code",
      "source": [
        "# mode of all models (video)\n",
        "\n",
        "from scipy.stats import mode\n",
        "\n",
        "def predict_with_models(models, video_path):\n",
        "    \"\"\"Predicts image class using multiple models on video frames and returns the mode.\"\"\"\n",
        "    frames = preprocess_video(video_path)\n",
        "    model = VGG16(weights='imagenet', include_top=False)\n",
        "    features = model.predict(frames)\n",
        "    n_frames, n_features = features.shape[0], features.shape[1]\n",
        "    print(f\"Number of frames: {n_frames}, Number of features extracted from VGG16: {n_features}\")\n",
        "\n",
        "    # Flatten the features\n",
        "    flattened_features = features.reshape(n_frames, -1)\n",
        "\n",
        "    all_predictions = []\n",
        "\n",
        "    for model in models:\n",
        "        # Preprocess features if necessary based on model requirements\n",
        "        model_features = flattened_features  # Replace with model-specific preprocessing if needed\n",
        "        outputs = model.predict(model_features)\n",
        "        all_predictions.append(outputs)\n",
        "\n",
        "    # Calculate mode of predictions\n",
        "    mode_predictions = mode(np.array(all_predictions), axis=0)[0][0]\n",
        "    print(f\"Mode prediction from all models: {mode_predictions}\")\n",
        "\n",
        "# Define your models here\n",
        "models = [model, knn_model, svm_model, rf_model, nb_model]\n",
        "\n",
        "# Provide path to your video\n",
        "video_path = '/content/drive/MyDrive/sml data /New Videos Trimmed/plastic fork/fork1.mov'\n",
        "\n",
        "predict_with_models(models, video_path)"
      ],
      "metadata": {
        "colab": {
          "base_uri": "https://localhost:8080/"
        },
        "id": "fnoP34TEziKD",
        "outputId": "2342318c-c6c4-4e9f-ee7b-0306640e24e0"
      },
      "execution_count": null,
      "outputs": [
        {
          "output_type": "stream",
          "name": "stdout",
          "text": [
            "1/1 [==============================] - 0s 186ms/step\n",
            "Number of frames: 10, Number of features extracted from VGG16: 4\n",
            "Mode prediction from all models: 1\n"
          ]
        }
      ]
    }
  ]
}